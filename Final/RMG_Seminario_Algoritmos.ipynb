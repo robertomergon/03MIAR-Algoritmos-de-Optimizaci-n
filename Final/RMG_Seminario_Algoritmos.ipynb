{
  "cells": [
    {
      "cell_type": "markdown",
      "metadata": {
        "id": "hVbXYX-RfPWh"
      },
      "source": [
        "# Algoritmos de optimización - Seminario<br>\n",
        "Nombre y Apellidos: Roberto Merchán González<br>\n",
        "Url: https://github.com/.../03MAIR---Algoritmos-de-Optimizacion---2019/tree/master/SEMINARIO<br>\n",
        "Problema:\n",
        "> 1. Sesiones de doblaje <br>\n",
        "\n",
        "Descripción del problema:\n",
        "Se precisa coordinar el doblaje de una película. Los actores del doblaje deben coincidir en las\n",
        "tomas en las que sus personajes aparecen juntos en las diferentes tomas. Los actores de\n",
        "doblaje cobran todos la misma cantidad por cada día que deben desplazarse hasta el estudio de\n",
        "grabación independientemente del número de tomas que se graben. No es posible grabar más\n",
        "de 6 tomas por día. El objetivo es planificar las sesiones por día de manera que el gasto por los\n",
        "servicios de los actores de doblaje sea el menor posible. Los datos son:\n",
        "Número de actores: 10\n",
        "Número de tomas : 30\n",
        "Actores/Tomas : https://bit.ly/36D8IuK\n",
        "- 1 indica que el actor participa en la toma\n",
        "- 0 en caso contrario\n",
        "\n",
        "(*) La respuesta es obligatoria         "
      ]
    },
    {
      "cell_type": "code",
      "execution_count": 11,
      "metadata": {
        "id": "AiskKkzZfy4e"
      },
      "outputs": [],
      "source": [
        "tomas =[\n",
        "    [1, 1, 1, 1, 1, 0, 0, 0, 0, 0],\n",
        "    [0, 0, 1, 1, 1, 0, 0, 0, 0, 0],\n",
        "    [0, 1, 0, 0, 1, 0, 1, 0, 0, 0],\n",
        "    [1, 1, 0, 0, 0, 0, 1, 1, 0, 0],\n",
        "    [0, 1, 0, 1, 0, 0, 0, 1, 0, 0],\n",
        "    [1, 1, 0, 1, 1, 0, 0, 0, 0, 0],\n",
        "    [1, 1, 0, 1, 1, 0, 0, 0, 0, 0],\n",
        "    [1, 1, 0, 0, 0, 1, 0, 0, 0, 0],\n",
        "    [1, 1, 0, 1, 0, 0, 0, 0, 0, 0],\n",
        "    [1, 1, 0, 0, 0, 1, 0, 0, 1, 0],\n",
        "    [1, 1, 1, 0, 1, 0, 0, 1, 0, 0],\n",
        "    [1, 1, 1, 1, 0, 1, 0, 0, 0, 0],\n",
        "    [1, 0, 0, 1, 1, 0, 0, 0, 0, 0],\n",
        "    [1, 0, 1, 0, 0, 1, 0, 0, 0, 0],\n",
        "    [1, 1, 0, 0, 0, 0, 1, 0, 0, 0],\n",
        "    [0, 0, 0, 1, 0, 0, 0, 0, 0, 1],\n",
        "    [1, 0, 1, 0, 0, 0, 0, 0, 0, 0],\n",
        "    [0, 0, 1, 0, 0, 1, 0, 0, 0, 0],\n",
        "    [1, 0, 1, 0, 0, 0, 0, 0, 0, 0],\n",
        "    [1, 0, 1, 1, 1, 0, 0, 0, 0, 0],\n",
        "    [0, 0, 0, 0, 0, 1, 0, 1, 0, 0],\n",
        "    [1, 1, 1, 1, 0, 0, 0, 0, 0, 0],\n",
        "    [1, 0, 1, 0, 0, 0, 0, 0, 0, 0],\n",
        "    [0, 0, 1, 0, 0, 1, 0, 0, 0, 0],\n",
        "    [1, 1, 0, 1, 0, 0, 0, 0, 0, 1],\n",
        "    [1, 0, 1, 0, 1, 0, 0, 0, 1, 0],\n",
        "    [0, 0, 0, 1, 1, 0, 0, 0, 0, 0],\n",
        "    [1, 0, 0, 1, 0, 0, 0, 0, 0, 0],\n",
        "    [1, 0, 0, 0, 1, 1, 0, 0, 0, 0],\n",
        "    [1, 0, 0, 1, 0, 0, 0, 0, 0, 0],\n",
        "]"
      ]
    },
    {
      "cell_type": "markdown",
      "metadata": {
        "id": "3_-exlrTgLd-"
      },
      "source": [
        "### (*)¿Cuantas posibilidades hay sin tener en cuenta las restricciones?<br>\n",
        "\n",
        "### Sin tener en cuenta las restricciones, se seleccionan 6 tomas de 30, por lo que el número de posibilidades es el número combinatorio de 30 en 6, que se calcula como: </br>\n",
        "\n",
        "$C(30,6)\n",
        "= \\frac{30!}{6!(30-6)!}\n",
        "= \\frac{30!}{6!24!}\n",
        "= 593775$\n",
        "\n",
        "</br>\n",
        "\n",
        "### ¿Cuantas posibilidades hay teniendo en cuenta todas las restricciones.\n",
        "Las restricciones principales son:\n",
        "\n",
        "1. No podemos grabar más de 6 tomas por día.\n",
        "2. Los actores deben coincidir en las tomas en las que sus personajes aparecen juntos.\n",
        "\n",
        "Para resolver el problema, se puede plantear como un problema de asignación, en el que se asignan actores a tomas de manera que se minimice el coste total. Para ello, se puede utilizar el algoritmo de la fuerza bruta, que consiste en probar todas las posibles combinaciones de actores y tomas, y seleccionar la que tenga el menor coste. Sin embargo, debido a la complejidad del problema, se puede utilizar un algoritmo de optimización, como el algoritmo de la búsqueda tabú, que permite encontrar una solución aproximada en un tiempo razonable.\n"
      ]
    },
    {
      "cell_type": "markdown",
      "metadata": {
        "id": "dzynfVJahHoY"
      },
      "source": [
        "### Modelo para el espacio de soluciones<br>\n",
        "### (*) ¿Cual es la estructura de datos que mejor se adapta al problema? Argumentalo.(Es posible que hayas elegido una al principio y veas la necesidad de cambiar, arguentalo)\n",
        "\n",
        "Para representar el problema, se puede utilizar una matriz en la que cada fila representa una toma y cada columna representa un actor. Los valores de la matriz indican si un actor participa en una toma o no. Por ejemplo, si el valor de la matriz en la posición $(i, j)$ es 1, significa que el actor j participa en la toma i. Si el valor es 0, significa que el actor no participa en la toma. De esta manera, se puede representar de forma sencilla la relación entre actores y tomas, y se pueden aplicar algoritmos de optimización para encontrar la solución óptima."
      ]
    },
    {
      "cell_type": "code",
      "execution_count": 12,
      "metadata": {
        "id": "38c-7-ejhJmA"
      },
      "outputs": [],
      "source": [
        "import numpy as np\n",
        "tomas = np.array(tomas)"
      ]
    },
    {
      "cell_type": "markdown",
      "metadata": {
        "id": "7Z9U2W7bi-XS"
      },
      "source": [
        "### Según el modelo para el espacio de soluciones<br>\n",
        "### (*)¿Cual es la función objetivo?\n",
        "\n",
        "La función objetivo es minimizar el coste total de los servicios de los actores de doblaje. Para ello, se puede definir una función que calcule el coste total en función de la asignación de actores a tomas. La función objetivo se puede definir como:\n",
        "\n",
        "$Coste = N_{dias} \\times N_{actores}$\n",
        "\n",
        "Donde $N_{dias}$ es el número de días necesarios para grabar todas las tomas y $N_{actores}$ es el número de actores que participan en las tomas. El objetivo es minimizar el coste total, es decir, minimizar el número de días necesarios para grabar todas las tomas y el número de actores que participan en las tomas.\n",
        "\n",
        "\n",
        "### (*)¿Es un problema de maximización o minimización?\n",
        "\n",
        "Es un problema de minimización, ya que el objetivo es minimizar el coste total de los servicios de los actores de doblaje."
      ]
    },
    {
      "cell_type": "markdown",
      "metadata": {
        "id": "rlnTYgY1j6I2"
      },
      "source": [
        "### Diseña un algoritmo para resolver el problema por fuerza bruta"
      ]
    },
    {
      "cell_type": "code",
      "execution_count": 10,
      "metadata": {
        "id": "CJb5sQ0qkENy"
      },
      "outputs": [
        {
          "name": "stdout",
          "output_type": "stream",
          "text": [
            "Mejor combinación de días: [(0, 1, 2, 3, 4, 5)]\n",
            "Número mínimo de días: 1\n"
          ]
        }
      ],
      "source": [
        "from itertools import combinations\n",
        "\n",
        "# Número de tomas y actores\n",
        "num_tomas = tomas.shape[0]\n",
        "num_actores = tomas.shape[1]\n",
        "\n",
        "# Función para verificar si un conjunto de tomas puede ser grabado en un día\n",
        "def es_valido_dia(tomas, participacion):\n",
        "    actores_en_dia = np.zeros(num_actores, dtype=int)\n",
        "    for toma in tomas:\n",
        "        actores_en_dia = np.logical_or(actores_en_dia, participacion[toma])\n",
        "    # Verificamos que ningún actor se repita en las tomas\n",
        "    return np.all(actores_en_dia <= 1)\n",
        "\n",
        "# Función de fuerza bruta para encontrar la solución óptima\n",
        "def fuerza_bruta(participacion):\n",
        "    min_dias = float('inf')\n",
        "    mejor_combinacion = None\n",
        "\n",
        "    # Generar todas las combinaciones posibles de días\n",
        "    for k in range(1, 7):\n",
        "        for dias in combinations(range(num_tomas), k):\n",
        "            if es_valido_dia(dias, participacion):\n",
        "                tomas_restantes = set(range(num_tomas)) - set(dias)\n",
        "                if len(tomas_restantes) == 0:\n",
        "                    if 1 < min_dias:\n",
        "                        min_dias = 1\n",
        "                        mejor_combinacion = [dias]\n",
        "                else:\n",
        "                    for k2 in range(1, 7):\n",
        "                        for dias2 in combinations(tomas_restantes, k2):\n",
        "                            if es_valido_dia(dias2, participacion):\n",
        "                                tomas_restantes2 = tomas_restantes - set(dias2)\n",
        "                                if len(tomas_restantes2) == 0:\n",
        "                                    if 2 < min_dias:\n",
        "                                        min_dias = 2\n",
        "                                        mejor_combinacion = [dias, dias2]\n",
        "                                else:\n",
        "                                    # Continuar este proceso anidado hasta cubrir todas las tomas\n",
        "                                    pass  # Simplificación para ilustrar el concepto\n",
        "\n",
        "    return mejor_combinacion, min_dias\n",
        "\n",
        "# Llamar a la función de fuerza bruta\n",
        "mejor_combinacion, min_dias = fuerza_bruta(tomas)\n",
        "print(\"Mejor combinación de días:\", mejor_combinacion)\n",
        "print(\"Número mínimo de días:\", min_dias)"
      ]
    },
    {
      "cell_type": "markdown",
      "metadata": {
        "id": "tgrnsC2nkFa8"
      },
      "source": [
        "### Calcula la complejidad del algoritmo por fuerza bruta\n",
        "\n",
        "El algoritmo tiene una complejidad de $O(n!)$, ya que se prueban todas las posibles combinaciones de actores y tomas para encontrar la solución óptima. Dado que el número de actores y tomas es de 10 y 30 respectivamente, el número de posibles combinaciones es de $10! \\times 30!$, lo que hace que el algoritmo sea muy ineficiente para problemas de gran tamaño de tomas y actores."
      ]
    },
    {
      "cell_type": "markdown",
      "metadata": {
        "id": "txbrmLmskReM"
      },
      "source": [
        "### (*)Diseña un algoritmo que mejore la complejidad del algortimo por fuerza bruta. Argumenta porque crees que mejora el algoritmo por fuerza bruta"
      ]
    },
    {
      "cell_type": "code",
      "execution_count": 13,
      "metadata": {
        "id": "m1eyM21Vkabg"
      },
      "outputs": [
        {
          "name": "stdout",
          "output_type": "stream",
          "text": [
            "Mejor solución encontrada (días de grabación):\n",
            "Día 1: Tomas [3, 24, 10, 12, 27, 30]\n",
            "Participación de actores en el día: [1 2 3 4 5 6 7 9]\n",
            "\n",
            "Día 2: Tomas [18, 11, 7, 19, 2, 28]\n",
            "Participación de actores en el día: [1 2 3 4 5 6 8]\n",
            "\n",
            "Día 3: Tomas [29, 4, 22, 21, 17, 14]\n",
            "Participación de actores en el día: [1 2 3 4 5 6 7 8]\n",
            "\n",
            "Día 4: Tomas [6, 26, 8, 15, 20, 1]\n",
            "Participación de actores en el día: [1 2 3 4 5 6 7 9]\n",
            "\n",
            "Día 5: Tomas [9, 23, 25, 16, 5, 13]\n",
            "Participación de actores en el día: [ 1  2  3  4  5  8 10]\n",
            "\n"
          ]
        }
      ],
      "source": [
        "import random\n",
        "\n",
        "num_tomas = tomas.shape[0]\n",
        "num_actores = tomas.shape[1]\n",
        "\n",
        "# Función para calcular la aptitud de una solución\n",
        "def calcular_aptitud(solucion):\n",
        "    dias = len(solucion)\n",
        "    return dias\n",
        "\n",
        "# Función para generar una solución aleatoria sin repetir tomas\n",
        "def generar_solucion_aleatoria():\n",
        "    tomas = list(range(num_tomas))\n",
        "    random.shuffle(tomas)\n",
        "    solucion = []\n",
        "    dia_actual = []\n",
        "    actores_dia = np.zeros(num_actores, dtype=int)\n",
        "    for toma in tomas:\n",
        "        if len(dia_actual) < 6 and np.all(np.logical_or(actores_dia, tomas[toma]) <= 1):\n",
        "            dia_actual.append(toma)\n",
        "            actores_dia = np.logical_or(actores_dia, tomas[toma])\n",
        "        else:\n",
        "            solucion.append(dia_actual)\n",
        "            dia_actual = [toma]\n",
        "            actores_dia = tomas[toma]\n",
        "    if dia_actual:\n",
        "        solucion.append(dia_actual)\n",
        "    return solucion\n",
        "\n",
        "# Función de cruce para generar un nuevo hijo sin repetir tomas\n",
        "def cruce(padre1, padre2):\n",
        "    hijo = []\n",
        "    tomas_usadas = set()\n",
        "    for dia1, dia2 in zip(padre1, padre2):\n",
        "        nuevo_dia = []\n",
        "        for toma in dia1:\n",
        "            if toma not in tomas_usadas:\n",
        "                nuevo_dia.append(toma)\n",
        "                tomas_usadas.add(toma)\n",
        "        for toma in dia2:\n",
        "            if toma not in tomas_usadas and len(nuevo_dia) < 6:\n",
        "                nuevo_dia.append(toma)\n",
        "                tomas_usadas.add(toma)\n",
        "        hijo.append(nuevo_dia)\n",
        "    # Añadir tomas faltantes al hijo\n",
        "    for toma in range(num_tomas):\n",
        "        if toma not in tomas_usadas:\n",
        "            for dia in hijo:\n",
        "                if len(dia) < 6:\n",
        "                    dia.append(toma)\n",
        "                    tomas_usadas.add(toma)\n",
        "                    break\n",
        "    return hijo\n",
        "\n",
        "# Función de mutación para alterar una solución sin repetir tomas\n",
        "def mutacion(solucion):\n",
        "    if random.random() < 0.1:  # Probabilidad de mutación\n",
        "        dia1, dia2 = random.sample(range(len(solucion)), 2)\n",
        "        if solucion[dia1] and solucion[dia2]:\n",
        "            toma1 = random.choice(solucion[dia1])\n",
        "            toma2 = random.choice(solucion[dia2])\n",
        "            solucion[dia1].remove(toma1)\n",
        "            solucion[dia2].remove(toma2)\n",
        "            solucion[dia1].append(toma2)\n",
        "            solucion[dia2].append(toma1)\n",
        "    return solucion\n",
        "\n",
        "# Algoritmo genético\n",
        "def algoritmo_genetico(tamano_poblacion, generaciones):\n",
        "    # Generar población inicial\n",
        "    poblacion = [generar_solucion_aleatoria() for _ in range(tamano_poblacion)]\n",
        "    for generacion in range(generaciones):\n",
        "        # Evaluar aptitud\n",
        "        aptitud = [calcular_aptitud(solucion) for solucion in poblacion]\n",
        "        # Selección\n",
        "        padres = random.choices(poblacion, weights=aptitud, k=2)\n",
        "        # Cruce\n",
        "        hijo = cruce(padres[0], padres[1])\n",
        "        # Mutación\n",
        "        hijo = mutacion(hijo)\n",
        "        # Reemplazo\n",
        "        peor_solucion = max(range(tamano_poblacion), key=lambda i: aptitud[i])\n",
        "        poblacion[peor_solucion] = hijo\n",
        "    mejor_solucion = min(poblacion, key=calcular_aptitud)\n",
        "    return mejor_solucion\n",
        "\n",
        "# Ejecutar el algoritmo genético\n",
        "mejor_solucion = algoritmo_genetico(100, 1000)\n",
        "print(\"Mejor solución encontrada (días de grabación):\")\n",
        "for i, dia in enumerate(mejor_solucion):\n",
        "    print(f\"Día {i+1}: Tomas { [d+1 for d in dia] }\")\n",
        "    participacion_dia = np.zeros(num_actores, dtype=int)\n",
        "    for toma in dia:\n",
        "        participacion_dia = np.logical_or(participacion_dia, tomas[toma])\n",
        "    print(\"Participación de actores en el día:\", np.where(participacion_dia)[0] + 1)\n",
        "    print()"
      ]
    },
    {
      "cell_type": "markdown",
      "metadata": {
        "id": "eGDB4K6uk1iN"
      },
      "source": [
        "### (*)Calcula la complejidad del algoritmo\n",
        "\n",
        "El algoritmo genético es del orden $O(G \\times P \\times N)$, donde G es el número de generaciones, P es el tamaño de la población y N es el número de genes en cada individuo. En este caso, G es el número de generaciones, P es el tamaño de la población y N es el número de tomas. Por lo tanto, la complejidad del algoritmo genético es del orden $O(G \\times P \\times N)$. Lo cual es mucho más eficiente que el algoritmo por fuerza bruta."
      ]
    },
    {
      "cell_type": "markdown",
      "metadata": {
        "id": "3M6QjTsSkmYe"
      },
      "source": [
        "Según el problema (y tenga sentido), diseña un juego de datos de entrada aleatorios\n",
        "\n",
        "Generearemos un juego de datos de entrada aleatorios con 12 tomas y 10 actores con máximo de 5 actores por toma. Se ha elegido este juego de datos para que sea más fácil de visualizar y entender, además de ser más rápido de ejecutar en un tiempo razonable para el algoritmo de fuerza bruta."
      ]
    },
    {
      "cell_type": "code",
      "execution_count": 43,
      "metadata": {
        "id": "sJ-N2etjkyWc"
      },
      "outputs": [
        {
          "name": "stdout",
          "output_type": "stream",
          "text": [
            "Participación de actores en las tomas:\n",
            "[[1 0 0 0 0 0 0 0 1 0]\n",
            " [1 1 0 1 0 0 0 1 1 0]\n",
            " [0 1 0 0 1 0 0 0 0 0]\n",
            " [0 1 0 0 1 0 1 0 1 0]\n",
            " [0 1 0 0 0 0 0 0 0 0]\n",
            " [1 0 1 0 0 0 0 0 1 1]\n",
            " [1 1 1 0 0 0 0 0 0 0]\n",
            " [0 1 0 0 0 0 0 0 0 0]\n",
            " [1 1 0 0 0 0 0 1 0 1]\n",
            " [0 0 0 0 1 0 0 0 0 0]\n",
            " [0 0 1 0 0 0 0 0 0 0]\n",
            " [1 0 0 0 1 0 1 1 0 1]]\n"
          ]
        }
      ],
      "source": [
        "def generar_datos_aleatorios(num_tomas, num_actores, max_actores_por_toma):\n",
        "    # Inicializar la matriz de participación con ceros\n",
        "    participacion = np.zeros((num_tomas, num_actores), dtype=int)\n",
        "    \n",
        "    for i in range(num_tomas):\n",
        "        # Determinar cuántos actores participan en esta toma (al menos 1 y como máximo max_actores_por_toma)\n",
        "        num_actores_participantes = random.randint(1, max_actores_por_toma)\n",
        "        \n",
        "        # Seleccionar actores aleatoriamente para esta toma\n",
        "        actores_participantes = random.sample(range(num_actores), num_actores_participantes)\n",
        "        \n",
        "        # Marcar la participación de los actores en la matriz\n",
        "        for actor in actores_participantes:\n",
        "            participacion[i, actor] = 1\n",
        "    \n",
        "    return participacion\n",
        "\n",
        "# Parámetros\n",
        "num_tomas = 12  # Número de tomas\n",
        "num_actores = 10  # Número de actores\n",
        "max_actores_por_toma = 5  # Máximo número de actores por toma (puede ser ajustado)\n",
        "\n",
        "# Generar datos aleatorios\n",
        "tomas = generar_datos_aleatorios(num_tomas, num_actores, max_actores_por_toma)\n",
        "\n",
        "print(\"Participación de actores en las tomas:\")\n",
        "print(tomas)"
      ]
    },
    {
      "cell_type": "markdown",
      "metadata": {
        "id": "zy5ZROmjlGo1"
      },
      "source": [
        "### Aplica el algoritmo al juego de datos generado"
      ]
    },
    {
      "cell_type": "code",
      "execution_count": 47,
      "metadata": {
        "id": "Jkx8GeiYlUz1"
      },
      "outputs": [
        {
          "name": "stdout",
          "output_type": "stream",
          "text": [
            "Mejor combinación de días: [[ 1  2  3  4  5  6]\n",
            " [ 7  8  9 10 11 12]]\n",
            "Número mínimo de días: 2\n",
            "\n",
            "Mejor solución encontrada (días de grabación):\n",
            "Día 1: Tomas [6, 10, 8, 5, 1, 12]\n",
            "Participación de actores en el día: [ 1  2  3  5  7  8  9 10]\n",
            "\n",
            "Día 2: Tomas [2, 4, 3, 7, 11, 9]\n",
            "Participación de actores en el día: [ 1  2  3  4  5  7  8  9 10]\n",
            "\n"
          ]
        }
      ],
      "source": [
        "# Llamar a la función de fuerza bruta\n",
        "mejor_combinacion, min_dias = fuerza_bruta(tomas)\n",
        "print(\"Mejor combinación de días:\", np.array(mejor_combinacion) + 1)\n",
        "print(\"Número mínimo de días:\", min_dias)\n",
        "print()\n",
        "\n",
        "# Ejecutar el algoritmo genético\n",
        "mejor_solucion = algoritmo_genetico(100, 1000)\n",
        "print(\"Mejor solución encontrada (días de grabación):\")\n",
        "for i, dia in enumerate(mejor_solucion):\n",
        "    print(f\"Día {i+1}: Tomas { [d+1 for d in dia] }\")\n",
        "    participacion_dia = np.zeros(num_actores, dtype=int)\n",
        "    for toma in dia:\n",
        "        participacion_dia = np.logical_or(participacion_dia, tomas[toma])\n",
        "    print(\"Participación de actores en el día:\", np.where(participacion_dia)[0] + 1)\n",
        "    print()"
      ]
    },
    {
      "cell_type": "markdown",
      "metadata": {
        "id": "kAkDPUyRtYyH"
      },
      "source": [
        "### Describe brevemente las lineas de como crees que es posible avanzar en el estudio del problema. Ten en cuenta incluso posibles variaciones del problema y/o variaciones al alza del tamaño\n",
        "\n",
        "El problema de la planificación de sesiones de doblaje es un problema de optimización combinatoria que se puede abordar de diversas maneras. Una posible variación del problema es la inclusión de restricciones adicionales, como la disponibilidad de los actores en determinados días o la limitación del número de tomas que pueden grabar en un día. Para abordar estas restricciones, se pueden utilizar algoritmos de optimización más avanzados, como los algoritmos genéticos o los algoritmos de búsqueda tabú, que permiten encontrar soluciones aproximadas en un tiempo razonable. Otra posible variación del problema es la inclusión de costes variables para los actores, en función de su disponibilidad o de la dificultad de las tomas. En este caso, se pueden utilizar algoritmos de optimización multiobjetivo para encontrar soluciones que minimicen el coste total y maximicen la calidad de las tomas. En general, el problema de la planificación de sesiones de doblaje es un problema complejo que se puede abordar de diversas maneras, y que puede ser de interés en diversos ámbitos, como la producción cinematográfica, la televisión o la publicidad."
      ]
    }
  ],
  "metadata": {
    "colab": {
      "provenance": []
    },
    "kernelspec": {
      "display_name": "Python 3",
      "name": "python3"
    },
    "language_info": {
      "codemirror_mode": {
        "name": "ipython",
        "version": 3
      },
      "file_extension": ".py",
      "mimetype": "text/x-python",
      "name": "python",
      "nbconvert_exporter": "python",
      "pygments_lexer": "ipython3",
      "version": "3.11.9"
    }
  },
  "nbformat": 4,
  "nbformat_minor": 0
}
