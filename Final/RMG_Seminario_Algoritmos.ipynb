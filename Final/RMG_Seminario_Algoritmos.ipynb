{
  "cells": [
    {
      "cell_type": "markdown",
      "metadata": {
        "id": "hVbXYX-RfPWh"
      },
      "source": [
        "# Algoritmos de optimización - Seminario<br>\n",
        "Nombre y Apellidos:   ***Roberto, Merchán González***<br>\n",
        "Url:*https://github.com/robertomergon/03MIAR-Algoritmos-de-Optimizacion/tree/main*<br>\n",
        ">## Problema:  Sesiones de doblaje\n",
        ">#### Descripción del problema:\n",
        ">Se precisa coordinar el doblaje de una película. <br>\n",
        ">Los actores del doblaje deben coincidir en las\n",
        ">tomas en las que sus personajes aparecen juntos en las diferentes tomas. <br>\n",
        ">Los actores de doblaje cobran todos la misma cantidad por cada día que deben desplazarse hasta el estudio de\n",
        ">grabación independientemente del número de tomas que se graben. <br>\n",
        ">No es posible grabar más de 6 tomas por día.  <br>\n",
        ">El objetivo es planificar las sesiones por día de manera que el gasto por los\n",
        ">servicios de los actores de doblaje sea el menor posible. <br>\n",
        ">Los datos han sido obtenidos de: *https://docs.google.com/spreadsheets/d/1Ipn6IrbQP4ax8zOnivdBIw2lN0JISkJG4fXndYd27U0/edit?gid=0#gid=0*\n",
        "                                        "
      ]
    },
    {
      "cell_type": "code",
      "execution_count": 11,
      "metadata": {},
      "outputs": [],
      "source": [
        "tomas =[\n",
        "    [1, 1, 1, 1, 1, 0, 0, 0, 0, 0],\n",
        "    [0, 0, 1, 1, 1, 0, 0, 0, 0, 0],\n",
        "    [0, 1, 0, 0, 1, 0, 1, 0, 0, 0],\n",
        "    [1, 1, 0, 0, 0, 0, 1, 1, 0, 0],\n",
        "    [0, 1, 0, 1, 0, 0, 0, 1, 0, 0],\n",
        "    [1, 1, 0, 1, 1, 0, 0, 0, 0, 0],\n",
        "    [1, 1, 0, 1, 1, 0, 0, 0, 0, 0],\n",
        "    [1, 1, 0, 0, 0, 1, 0, 0, 0, 0],\n",
        "    [1, 1, 0, 1, 0, 0, 0, 0, 0, 0],\n",
        "    [1, 1, 0, 0, 0, 1, 0, 0, 1, 0],\n",
        "    [1, 1, 1, 0, 1, 0, 0, 1, 0, 0],\n",
        "    [1, 1, 1, 1, 0, 1, 0, 0, 0, 0],\n",
        "    [1, 0, 0, 1, 1, 0, 0, 0, 0, 0],\n",
        "    [1, 0, 1, 0, 0, 1, 0, 0, 0, 0],\n",
        "    [1, 1, 0, 0, 0, 0, 1, 0, 0, 0],\n",
        "    [0, 0, 0, 1, 0, 0, 0, 0, 0, 1],\n",
        "    [1, 0, 1, 0, 0, 0, 0, 0, 0, 0],\n",
        "    [0, 0, 1, 0, 0, 1, 0, 0, 0, 0],\n",
        "    [1, 0, 1, 0, 0, 0, 0, 0, 0, 0],\n",
        "    [1, 0, 1, 1, 1, 0, 0, 0, 0, 0],\n",
        "    [0, 0, 0, 0, 0, 1, 0, 1, 0, 0],\n",
        "    [1, 1, 1, 1, 0, 0, 0, 0, 0, 0],\n",
        "    [1, 0, 1, 0, 0, 0, 0, 0, 0, 0],\n",
        "    [0, 0, 1, 0, 0, 1, 0, 0, 0, 0],\n",
        "    [1, 1, 0, 1, 0, 0, 0, 0, 0, 1],\n",
        "    [1, 0, 1, 0, 1, 0, 0, 0, 1, 0],\n",
        "    [0, 0, 0, 1, 1, 0, 0, 0, 0, 0],\n",
        "    [1, 0, 0, 1, 0, 0, 0, 0, 0, 0],\n",
        "    [1, 0, 0, 0, 1, 1, 0, 0, 0, 0],\n",
        "    [1, 0, 0, 1, 0, 0, 0, 0, 0, 0],\n",
        "]"
      ]
    },
    {
      "cell_type": "markdown",
      "metadata": {
        "id": "3_-exlrTgLd-"
      },
      "source": [
        "### (*)¿Cuantas posibilidades hay sin tener en cuenta las restricciones?<br>\n",
        ">#### Respuesta:\n",
        ">Sin tener en cuenta las restricciones podriamos grabar todas las tomas en un solo día, por lo que el minimo número de días sería 1 (todos los actores graban todas las tomas en un solo día) y el máximo sería el número de tomas (cada toma se graba en un día diferente, independientemente de los actores que participen en ella).\n",
        ">Por lo tanto en el caso mejor el número de posibles soluciones en el mejor de los casos sería $30!$ \n",
        "\n",
        "### ¿Cuantas posibilidades hay teniendo en cuenta todas las restricciones? <br>\n",
        ">#### Respuesta:\n",
        ">En este caso, el número de posibilidades se reduce considerablemente, ya que no se pueden grabar más de 6 tomas por día. Por lo que el mejor de los casos sería grabar 6 tomas por día, lo que nos daría $\\frac {30!}{(6!)^5}$ posibles soluciones."
      ]
    },
    {
      "cell_type": "markdown",
      "metadata": {
        "id": "dzynfVJahHoY"
      },
      "source": [
        "## Modelo para el espacio de soluciones<br>\n",
        "### (*) ¿Cual es la estructura de datos que mejor se adapta al problema? Argumentalo.(Es posible que hayas elegido una al principio y veas la necesidad de cambiar, arguentalo)\n",
        ">#### Respuesta:\n",
        ">La estructura de datos más adecuada para este problema parece ser un array bidimensional que conecte actores con tomas. \n",
        ">Ofrece una representación efectiva de las relaciones entre actores y tomas y puede ajustarse para incluir restricciones adicionales de manera relativamente simple, como un límite de 6 tomas por día. Esto también permite iterar sobre actores y tomas en cuanto a espacio, especialmente si no todos los actores aparecen en todas las tomas."
      ]
    },
    {
      "cell_type": "markdown",
      "metadata": {
        "id": "7Z9U2W7bi-XS"
      },
      "source": [
        "## Según el modelo para el espacio de soluciones<br>\n",
        "### (*)¿Cual es la función objetivo?\n",
        ">#### Respuesta:\n",
        ">La función objetivo pretende minimizar el coste total de los actores de doblaje. Para ello, se debe minimizar el número de días en los que se graban las tomas, ya que los actores cobran lo mismo independientemente del número de tomas que se graben. A su vez la funcion objetivo debe tener en cuenta que los actores deben coincidir en las tomas en las que sus personajes aparecen juntos.\n",
        ">Matemáticamente, la función objetivo sería:\n",
        ">$$\\min \\sum_{i=1}^{n}d_i$$\n",
        ">Donde $d_i$ es el número de días que debe acudir el actor $i$ al estudio para grabar las tomas asignadas.\n",
        "### (*)¿Es un problema de maximización o minimización?\n",
        ">#### Respuesta:\n",
        ">Es un problema de **minimización**, ya que se pretende minimizar el número de días que debe acudir cada actor al estudio para grabar las tomas asignadas."
      ]
    },
    {
      "cell_type": "markdown",
      "metadata": {
        "id": "rlnTYgY1j6I2"
      },
      "source": [
        "## Diseña un algoritmo para resolver el problema por fuerza bruta"
      ]
    },
    {
      "cell_type": "code",
      "execution_count": 12,
      "metadata": {},
      "outputs": [],
      "source": [
        "from itertools import combinations\n",
        "\n",
        "# Crear lista de adyacencia donde cada toma se conecta con otras por actores comunes\n",
        "num_tomas = len(tomas)\n",
        "adj_list = {i: [] for i in range(num_tomas)}\n",
        "\n",
        "for i in range(num_tomas):\n",
        "    for j in range(i + 1, num_tomas):\n",
        "        if any(a and b for a, b in zip(tomas[i], tomas[j])):\n",
        "            adj_list[i].append(j)\n",
        "            adj_list[j].append(i)\n",
        "\n",
        "# Función para verificar si un grupo de tomas es válido (no más de 6 tomas y todos actores coinciden)\n",
        "def es_grupo_valido(grupo):\n",
        "    max_tomas_por_dia = 6\n",
        "    if len(grupo) > max_tomas_por_dia:\n",
        "        return False\n",
        "    for i in range(len(grupo)):\n",
        "        for j in range(i + 1, len(grupo)):\n",
        "            if grupo[j] not in adj_list[grupo[i]]:\n",
        "                return False\n",
        "    return True\n",
        "\n",
        "# Calcular cuántos días ha ido cada actor al estudio\n",
        "def dias_por_actor(solucion, tomas):\n",
        "    actores_dias = [0] * len(tomas[0])  # Cada actor tiene su contador de días\n",
        "    \n",
        "    for dia in solucion:\n",
        "        actores_en_dia = set()  # Actores presentes en el día actual\n",
        "        for toma in dia:\n",
        "            for i, actor in enumerate(tomas[toma]):\n",
        "                if actor:  # Si el actor participa en la toma\n",
        "                    actores_en_dia.add(i)\n",
        "        \n",
        "        # Incrementamos el contador de días para los actores presentes ese día\n",
        "        for actor in actores_en_dia:\n",
        "            actores_dias[actor] += 1\n",
        "    \n",
        "    return actores_dias\n",
        "\n",
        "# Algoritmo de fuerza bruta para minimizar el número total de días por actor\n",
        "def fuerza_bruta(tomas):\n",
        "    num_tomas = len(tomas)\n",
        "    mejor_solucion = []\n",
        "    min_suma_dias = float('inf')  # Queremos minimizar la suma de los días de todos los actores\n",
        "\n",
        "    # Generar todas las posibles combinaciones de tomas en días\n",
        "    def fuerza_bruta_recursivo(tomas_restantes):\n",
        "        if not tomas_restantes:\n",
        "            return 0, []\n",
        "\n",
        "        num_tomas = len(tomas_restantes)\n",
        "        mejor_solucion_local = []\n",
        "        min_suma_dias_local = float('inf')\n",
        "\n",
        "        for r in range(1, min(7, num_tomas) + 1):  # Hasta 6 tomas por día\n",
        "            for combinacion in combinations(tomas_restantes, r):\n",
        "                if es_grupo_valido(combinacion):\n",
        "                    nuevas_tomas_restantes = set(tomas_restantes) - set(combinacion)\n",
        "                    dias_necesarios, solucion_parcial = fuerza_bruta_recursivo(nuevas_tomas_restantes)\n",
        "                    solucion_completa = [combinacion] + solucion_parcial\n",
        "\n",
        "                    # Calcular cuántos días han ido los actores con la nueva solución\n",
        "                    actores_dias = dias_por_actor(solucion_completa, tomas)\n",
        "                    suma_dias = sum(actores_dias)\n",
        "\n",
        "                    # Comparamos la suma de días de los actores con el mínimo actual\n",
        "                    if suma_dias < min_suma_dias_local:\n",
        "                        min_suma_dias_local = suma_dias\n",
        "                        mejor_solucion_local = solucion_completa\n",
        "\n",
        "        return min_suma_dias_local, mejor_solucion_local\n",
        "\n",
        "    min_suma_dias, mejor_solucion = fuerza_bruta_recursivo(set(range(num_tomas)))\n",
        "\n",
        "    return mejor_solucion, min_suma_dias\n"
      ]
    },
    {
      "cell_type": "markdown",
      "metadata": {
        "id": "tgrnsC2nkFa8"
      },
      "source": [
        "### Calcula la complejidad del algoritmo por fuerza bruta\n",
        "\n",
        ">#### Respuesta:\n",
        ">La complejidad del algoritmo de fuerza bruta propuesto, en términos de notación $O$, es $O(2^n)$, dado que el algoritmo genera y evalúa todas las posibles combinaciones de tomas para cada día. A continuación, se explica la complejidad de las funciones del código:\n",
        ">1. **Función `es_grupo_valido`**:\n",
        ">   - Esta función verifica si un conjunto de tomas puede agruparse en un día sin violar las restricciones, como la participación de actores en las tomas.\n",
        ">   - La función compara las tomas entre sí, revisando su adyacencia (si comparten actores). Dado que el número máximo de tomas por día es 6, esta verificación tiene una complejidad de $O(k^2)$, donde $k$ es el número de tomas a comparar. Como siempre se cumple que $k \\leq 6$ se puede considerar constante $O(1)$.\n",
        ">2. **Función `dias_por_actor`**:\n",
        ">   - Esta función recorre la solución final (la lista de días con sus respectivas tomas) y calcula cuántos días ha ido cada actor al estudio.\n",
        ">   - Para cada día en la solución, se recorre cada toma y luego se recorre cada actor involucrado en las tomas.\n",
        ">   - Dado que se recorren todos los actores para todas las tomas en la solución, su complejidad es $O(n \\cdot m)$, donde $n$ es el número de tomas y $m$ es el número de actores por toma (generalmente pequeño en comparación con $n$).\n",
        ">3. **Función `fuerza_bruta_recursivo`**:\n",
        ">   - Esta es la parte central del algoritmo de fuerza bruta. Para cada conjunto de tomas restantes, se generan todas las posibles combinaciones (subconjuntos) de tomas que se pueden agrupar en un día (hasta 6 tomas).\n",
        ">   - El número de subconjuntos de $n$ tomas es $2^n$, lo que genera una complejidad de $O(2^n)$.\n",
        ">   - Además, por cada subconjunto generado, se llama recursivamente a la función con las tomas restantes, lo que agrega una profundidad recursiva de $O(n)$.\n",
        ">   - La combinación de estos factores da una complejidad total de $O(2^n)$, dado que la recursión explora todas las posibles formas de agrupar las tomas en los días.\n",
        ">4. **Función `fuerza_bruta`**:\n",
        ">   - Esta función llama al proceso recursivo para generar todas las combinaciones posibles de tomas en días. La complejidad de esta función está dominada por la complejidad de la función recursiva, que es $O(2^n)$.\n",
        ">##### Complejidad total:\n",
        ">El paso dominante del algoritmo es la generación y verificación de todas las posibles combinaciones de tomas en días, lo que lleva a una complejidad de $O(2^n)$, ya que debemos considerar todas las posibles maneras de agrupar las $n$ tomas. Cada combinación es evaluada por la función `es_grupo_valido` y luego procesada recursivamente por `fuerza_bruta_recursivo`.\n",
        ">Por lo tanto, la **complejidad total del algoritmo es $O(2^n)$**, principalmente debido a la exploración exhaustiva de todas las combinaciones de tomas posibles para asignarlas a días. \n",
        ">En el caso de **$n = 30$**, el número de combinaciones sería del orden de $2^{30}$, lo cual es prohibitivo para un algoritmo de fuerza bruta."
      ]
    },
    {
      "cell_type": "markdown",
      "metadata": {
        "id": "txbrmLmskReM"
      },
      "source": [
        "### (*)Diseña un algoritmo que mejore la complejidad del algortimo por fuerza bruta. Argumenta porque crees que mejora el algoritmo por fuerza bruta\n",
        "\n",
        ">#### Respuesta:\n",
        ">Para mejorar la complejidad del algoritmo y resolver el problema en un tiempo razonable, se pueden utilizar otro tipo de algortimos, con un algoritmo voraz o programación dinámica. <br>\n",
        ">En este caso, se propone un algoritmo voraz que intenta minimizar el número de días que los actores deben ir al estudio para grabar las tomas asignadas. El algoritmo se basa en la siguiente estrategia:\n",
        ">1. **Ordenar las tomas por el número de actores involucrados**.\n",
        ">2. **Asignar las tomas a los días de grabación**:\n",
        ">   - Para cada toma, se asigna al día con menos tomas asignadas y que no viola las restricciones.\n",
        ">   - Si no se puede asignar a ningún día, se crea un nuevo día.\n",
        ">3. **Optimizar la solución**:\n",
        ">   - Se intenta mejorar la solución moviendo las tomas de un día a otro, siempre que no se violen las restricciones.\n",
        ">   - Se repite este proceso hasta que no se pueda mejorar más la solución.\n",
        ">Este algoritmo voraz tiene una complejidad de $O(n \\log n)$, donde $n$ es el número de tomas. La complejidad se debe a la ordenación inicial de las tomas por el número de actores involucrados. El resto del algoritmo es lineal en el número de tomas, ya que se recorren todas las tomas una vez para asignarlas a los días y luego se intenta mejorar la solución moviendo las tomas entre los días."
      ]
    },
    {
      "cell_type": "code",
      "execution_count": 13,
      "metadata": {
        "id": "m1eyM21Vkabg"
      },
      "outputs": [],
      "source": [
        "def algoritmo_voraz(tomas):\n",
        "    # Ordenar las tomas por el número de actores involucrados (de mayor a menor)\n",
        "    tomas_ordenadas = sorted(range(len(tomas)), key=lambda x: sum(tomas[x]), reverse=True)\n",
        "    \n",
        "    # Inicializar los días de grabación\n",
        "    dias = []\n",
        "    \n",
        "    # Asignar las tomas a los días de grabación\n",
        "    for toma in tomas_ordenadas:\n",
        "        asignado = False\n",
        "        for dia in dias:\n",
        "            if len(dia) < 6 and all(any(tomas[toma][i] and tomas[otra_toma][i] for i in range(len(tomas[toma]))) for otra_toma in dia):\n",
        "                dia.append(toma)\n",
        "                asignado = True\n",
        "                break\n",
        "        if not asignado:\n",
        "            dias.append([toma])\n",
        "    \n",
        "    # Optimizar la solución moviendo las tomas de un día a otro\n",
        "    optimizado = True\n",
        "    while optimizado:\n",
        "        optimizado = False\n",
        "        for i in range(len(dias)):\n",
        "            for j in range(i + 1, len(dias)):\n",
        "                for toma in dias[i]:\n",
        "                    if len(dias[j]) < 6 and all(any(tomas[toma][k] and tomas[otra_toma][k] for k in range(len(tomas[toma]))) for otra_toma in dias[j]):\n",
        "                        dias[j].append(toma)\n",
        "                        dias[i].remove(toma)\n",
        "                        optimizado = True\n",
        "                        break\n",
        "                if optimizado:\n",
        "                    break\n",
        "            if optimizado:\n",
        "                break\n",
        "        # Remove empty days\n",
        "        dias = [dia for dia in dias if dia]\n",
        "    \n",
        "    return dias"
      ]
    },
    {
      "cell_type": "markdown",
      "metadata": {
        "id": "eGDB4K6uk1iN"
      },
      "source": [
        "### (*)Calcula la complejidad del algoritmo\n",
        ">#### Respuesta:\n",
        ">Como ya se ha mencionado anteriormente, la complejidad del algoritmo voraz propuesto es $O(n \\log n)$, donde $n$ es el número de tomas. La complejidad se debe a la ordenación inicial de las tomas por el número de actores involucrados. El resto del algoritmo es lineal en el número de tomas, ya que se recorren todas las tomas una vez para asignarlas a los días y luego se intenta mejorar la solución moviendo las tomas entre los días.\n",
        ">Por lo tanto, se gana una mejora significativa en cuanto a la complejidad temporal del algoritmo, ya que se reduce de $O(2^n)$ a $O(n \\log n)$, por lo que hemos pasado de un problema NP-completo a un problema P o polinómico, que sí que es posible de resolver en un tiempo razonable, a cambio de no garantizar la solución óptima."
      ]
    },
    {
      "cell_type": "markdown",
      "metadata": {
        "id": "3M6QjTsSkmYe"
      },
      "source": [
        "### Según el problema (y tenga sentido), diseña un juego de datos de entrada aleatorios\n",
        ">#### Respuesta:\n",
        ">- Para poder probar el algoritmo que resuelve el problema por fuerza bruta se  empleará un juego de datos reducido, con un número más reducido de tomas ya que con el juego inicial de 30 tomas, el algoritmo de fuerza bruta no sería viable en un tiempo razonable. Por lo que se empleará un juego de datos con las 10 primeras tomas del juego original.\n",
        ">- Mientras que para el algoritmo voraz, se empleará el juego de datos completo con las 30 tomas ya que su complejidad es mucho menor y puede resolver el problema en un tiempo razonable."
      ]
    },
    {
      "cell_type": "code",
      "execution_count": 14,
      "metadata": {
        "id": "sJ-N2etjkyWc"
      },
      "outputs": [],
      "source": [
        "tomas_fuerza =[\n",
        "    [1, 1, 1, 1, 1, 0, 0, 0, 0, 0],\n",
        "    [0, 0, 1, 1, 1, 0, 0, 0, 0, 0],\n",
        "    [0, 1, 0, 0, 1, 0, 1, 0, 0, 0],\n",
        "    [1, 1, 0, 0, 0, 0, 1, 1, 0, 0],\n",
        "    [0, 1, 0, 1, 0, 0, 0, 1, 0, 0],\n",
        "    [1, 1, 0, 1, 1, 0, 0, 0, 0, 0],\n",
        "    [1, 1, 0, 1, 1, 0, 0, 0, 0, 0],\n",
        "    [1, 1, 0, 0, 0, 1, 0, 0, 0, 0],\n",
        "    [1, 1, 0, 1, 0, 0, 0, 0, 0, 0],\n",
        "    [1, 1, 0, 0, 0, 1, 0, 0, 1, 0]\n",
        "]\n",
        "\n",
        "tomas_voraz = [\n",
        "    [1, 1, 1, 1, 1, 0, 0, 0, 0, 0],\n",
        "    [0, 0, 1, 1, 1, 0, 0, 0, 0, 0],\n",
        "    [0, 1, 0, 0, 1, 0, 1, 0, 0, 0],\n",
        "    [1, 1, 0, 0, 0, 0, 1, 1, 0, 0],\n",
        "    [0, 1, 0, 1, 0, 0, 0, 1, 0, 0],\n",
        "    [1, 1, 0, 1, 1, 0, 0, 0, 0, 0],\n",
        "    [1, 1, 0, 1, 1, 0, 0, 0, 0, 0],\n",
        "    [1, 1, 0, 0, 0, 1, 0, 0, 0, 0],\n",
        "    [1, 1, 0, 1, 0, 0, 0, 0, 0, 0],\n",
        "    [1, 1, 0, 0, 0, 1, 0, 0, 1, 0],\n",
        "    [1, 1, 1, 0, 1, 0, 0, 1, 0, 0],\n",
        "    [1, 1, 1, 1, 0, 1, 0, 0, 0, 0],\n",
        "    [1, 0, 0, 1, 1, 0, 0, 0, 0, 0],\n",
        "    [1, 0, 1, 0, 0, 1, 0, 0, 0, 0],\n",
        "    [1, 1, 0, 0, 0, 0, 1, 0, 0, 0],\n",
        "    [0, 0, 0, 1, 0, 0, 0, 0, 0, 1],\n",
        "    [1, 0, 1, 0, 0, 0, 0, 0, 0, 0],\n",
        "    [0, 0, 1, 0, 0, 1, 0, 0, 0, 0],\n",
        "    [1, 0, 1, 0, 0, 0, 0, 0, 0, 0],\n",
        "    [1, 0, 1, 1, 1, 0, 0, 0, 0, 0],\n",
        "    [0, 0, 0, 0, 0, 1, 0, 1, 0, 0],\n",
        "    [1, 1, 1, 1, 0, 0, 0, 0, 0, 0],\n",
        "    [1, 0, 1, 0, 0, 0, 0, 0, 0, 0],\n",
        "    [0, 0, 1, 0, 0, 1, 0, 0, 0, 0],\n",
        "    [1, 1, 0, 1, 0, 0, 0, 0, 0, 1],\n",
        "    [1, 0, 1, 0, 1, 0, 0, 0, 1, 0],\n",
        "    [0, 0, 0, 1, 1, 0, 0, 0, 0, 0],\n",
        "    [1, 0, 0, 1, 0, 0, 0, 0, 0, 0],\n",
        "    [1, 0, 0, 0, 1, 1, 0, 0, 0, 0],\n",
        "    [1, 0, 0, 1, 0, 0, 0, 0, 0, 0],\n",
        "]"
      ]
    },
    {
      "cell_type": "markdown",
      "metadata": {
        "id": "zy5ZROmjlGo1"
      },
      "source": [
        "### Aplica el algoritmo al juego de datos generado"
      ]
    },
    {
      "cell_type": "code",
      "execution_count": 15,
      "metadata": {
        "id": "Jkx8GeiYlUz1"
      },
      "outputs": [
        {
          "name": "stdout",
          "output_type": "stream",
          "text": [
            "\n",
            "Algoritmo de fuerza bruta:\n",
            "Día 1:\n",
            "  Toma 1 → Actores [1, 2, 3, 4, 5]\n",
            "  Toma 2 → Actores [3, 4, 5]\n",
            "  Toma 6 → Actores [1, 2, 4, 5]\n",
            "  Toma 7 → Actores [1, 2, 4, 5]\n",
            "Día 2:\n",
            "  Toma 3 → Actores [2, 5, 7]\n",
            "  Toma 4 → Actores [1, 2, 7, 8]\n",
            "  Toma 5 → Actores [2, 4, 8]\n",
            "  Toma 8 → Actores [1, 2, 6]\n",
            "  Toma 9 → Actores [1, 2, 4]\n",
            "  Toma 10 → Actores [1, 2, 6, 9]\n",
            "\n",
            "Número de días por actor:\n",
            "• Actor 1 ha ido al estudio 2 días.\n",
            "• Actor 2 ha ido al estudio 2 días.\n",
            "• Actor 3 ha ido al estudio 1 días.\n",
            "• Actor 4 ha ido al estudio 2 días.\n",
            "• Actor 5 ha ido al estudio 2 días.\n",
            "• Actor 6 ha ido al estudio 1 días.\n",
            "• Actor 7 ha ido al estudio 1 días.\n",
            "• Actor 8 ha ido al estudio 1 días.\n",
            "• Actor 9 ha ido al estudio 1 días.\n",
            "• Actor 10 ha ido al estudio 0 días.\n"
          ]
        }
      ],
      "source": [
        "# Ejecutar el algoritmo por fuerza bruta\n",
        "print(\"\\nAlgoritmo de fuerza bruta:\")\n",
        "solucion_fuerza_bruta, función_objetivo = fuerza_bruta(tomas_fuerza)\n",
        "for i, dia in enumerate(solucion_fuerza_bruta, 1):\n",
        "    print(f\"Día {i}:\")\n",
        "    for toma in dia:\n",
        "        print(f\"  Toma {toma + 1} → Actores {[i + 1 for i, actor in enumerate(tomas_fuerza[toma]) if actor]}\")\n",
        "\n",
        "# Comprobar los días por actor\n",
        "print(\"\\nNúmero de días por actor:\")\n",
        "actores_dias = dias_por_actor(solucion_fuerza_bruta, tomas_fuerza)\n",
        "for i, dias in enumerate(actores_dias):\n",
        "    print(f\"• Actor {i + 1} ha ido al estudio {dias} días.\")"
      ]
    },
    {
      "cell_type": "code",
      "execution_count": 16,
      "metadata": {},
      "outputs": [
        {
          "name": "stdout",
          "output_type": "stream",
          "text": [
            "\n",
            "Algoritmo voraz:\n",
            "Día 1:\n",
            "  Toma 20: [1, 3, 4, 5]\n",
            "  Toma 22: [1, 2, 3, 4]\n",
            "  Toma 25: [1, 2, 4, 10]\n",
            "  Toma 26: [1, 3, 5, 9]\n",
            "  Toma 3: [2, 5, 7]\n",
            "  Toma 7: [1, 2, 4, 5]\n",
            "Día 2:\n",
            "  Toma 2: [3, 4, 5]\n",
            "  Toma 5: [2, 4, 8]\n",
            "  Toma 9: [1, 2, 4]\n",
            "  Toma 13: [1, 4, 5]\n",
            "  Toma 16: [4, 10]\n",
            "  Toma 27: [4, 5]\n",
            "Día 3:\n",
            "  Toma 8: [1, 2, 6]\n",
            "  Toma 14: [1, 3, 6]\n",
            "  Toma 15: [1, 2, 7]\n",
            "  Toma 29: [1, 5, 6]\n",
            "  Toma 17: [1, 3]\n",
            "  Toma 19: [1, 3]\n",
            "Día 4:\n",
            "  Toma 18: [3, 6]\n",
            "  Toma 21: [6, 8]\n",
            "  Toma 24: [3, 6]\n",
            "  Toma 11: [1, 2, 3, 5, 8]\n",
            "  Toma 12: [1, 2, 3, 4, 6]\n",
            "  Toma 10: [1, 2, 6, 9]\n",
            "Día 5:\n",
            "  Toma 23: [1, 3]\n",
            "  Toma 28: [1, 4]\n",
            "  Toma 30: [1, 4]\n",
            "  Toma 1: [1, 2, 3, 4, 5]\n",
            "  Toma 4: [1, 2, 7, 8]\n",
            "  Toma 6: [1, 2, 4, 5]\n",
            "\n",
            "Número de días por actor:\n",
            "• Actor 1 ha ido al estudio 5 días.\n",
            "• Actor 2 ha ido al estudio 5 días.\n",
            "• Actor 3 ha ido al estudio 5 días.\n",
            "• Actor 4 ha ido al estudio 4 días.\n",
            "• Actor 5 ha ido al estudio 5 días.\n",
            "• Actor 6 ha ido al estudio 2 días.\n",
            "• Actor 7 ha ido al estudio 3 días.\n",
            "• Actor 8 ha ido al estudio 3 días.\n",
            "• Actor 9 ha ido al estudio 2 días.\n",
            "• Actor 10 ha ido al estudio 2 días.\n"
          ]
        }
      ],
      "source": [
        "# Ejecutar el algoritmo voraz\n",
        "print(\"\\nAlgoritmo voraz:\")\n",
        "solucion_voraz = algoritmo_voraz(tomas_voraz)\n",
        "# Mostrar la solución\n",
        "for i, dia in enumerate(solucion_voraz, 1):\n",
        "    print(f\"Día {i}:\")\n",
        "    for toma in dia:\n",
        "        print(f\"  Toma {toma + 1}: {[i + 1 for i, actor in enumerate(tomas_voraz[toma]) if actor]}\")\n",
        "\n",
        "# Calcular los días por actor\n",
        "actores_dias = dias_por_actor(solucion_voraz, tomas_voraz)\n",
        "print(\"\\nNúmero de días por actor:\")\n",
        "for i, dias in enumerate(actores_dias):\n",
        "    print(f\"• Actor {i + 1} ha ido al estudio {dias} días.\")"
      ]
    },
    {
      "cell_type": "markdown",
      "metadata": {
        "id": "eTFWUJQrtGcv"
      },
      "source": [
        "### Enumera las referencias que has utilizado(si ha sido necesario) para llevar a cabo el trabajo"
      ]
    },
    {
      "cell_type": "markdown",
      "metadata": {
        "id": "YKQ_mRBttWsP"
      },
      "source": [
        ">No ha sido necesario emplear referencias adicionales para la realización de este trabajo."
      ]
    },
    {
      "cell_type": "markdown",
      "metadata": {
        "id": "IE0uZmo-tZu-"
      },
      "source": [
        "### Describe brevemente las lineas de como crees que es posible avanzar en el estudio del problema. Ten en cuenta incluso posibles variaciones del problema y/o variaciones al alza del tamaño\n",
        ">#### Respuesta:\n",
        ">El problema de las sesiones de doblaje es un problema de asignación de recursos que puede ser abordo de diferentes maneras. En este caso, se han propuesto dos algoritmos para resolver el problema, uno de fuerza bruta y otro voraz.<br><br>\n",
        ">Sin embargo, existen otros enfoques que se pueden emplear para resolver el problema, como la programación dinámica o algoritmos de ramificación y poda. Estos enfoques pueden ser más eficientes que los propuestos en este trabajo y pueden garantizar soluciones mejores al problema que el voraz. <br><br>\n",
        ">Por otro lado, también se pueden considerar variaciones del problema, como la inclusión de restricciones adicionales, como la disponibilidad de los actores en ciertos días o la inclusión de costes adicionales por la grabación de ciertas tomas. En estos casos, se pueden emplear técnicas de optimización más avanzadas para resolver el problema.<br><br> \n",
        ">Por último, también se puede considerar el aumento del tamaño del problema, es decir, el número de tomas y actores lo cual puede ser abordado mediante el uso del algoritmo voraz o incluso con otro tipo de algoritmos heurísticos ya que permitan resolver el problema en un tiempo razonable, garantizando soluciones más cercanas a la óptima, sacrificando la optimización en favor de la eficiencia."
      ]
    }
  ],
  "metadata": {
    "colab": {
      "provenance": []
    },
    "kernelspec": {
      "display_name": "Python 3",
      "name": "python3"
    },
    "language_info": {
      "codemirror_mode": {
        "name": "ipython",
        "version": 3
      },
      "file_extension": ".py",
      "mimetype": "text/x-python",
      "name": "python",
      "nbconvert_exporter": "python",
      "pygments_lexer": "ipython3",
      "version": "3.11.9"
    }
  },
  "nbformat": 4,
  "nbformat_minor": 0
}
